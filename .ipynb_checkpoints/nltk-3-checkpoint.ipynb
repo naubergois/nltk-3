{
 "cells": [
  {
   "cell_type": "code",
   "execution_count": 8,
   "metadata": {
    "collapsed": false
   },
   "outputs": [
    {
     "name": "stdout",
     "output_type": "stream",
     "text": [
      "(S\n",
      "  (PERSON Mark/NNP)\n",
      "  is/VBZ\n",
      "  studing/VBG\n",
      "  at/IN\n",
      "  (ORGANIZATION Stanford/NNP University/NNP)\n",
      "  in/IN\n",
      "  (GPE California/NNP))\n"
     ]
    }
   ],
   "source": [
    "import nltk\n",
    "from nltk import word_tokenize\n",
    "from nltk import ne_chunk\n",
    "sent='Mark is studing at Stanford University in California'\n",
    "tokens=nltk.pos_tag(word_tokenize(sent))\n",
    "ent=ne_chunk(tokens,binary=False)\n",
    "print(ent)\n",
    "\n",
    "\n"
   ]
  },
  {
   "cell_type": "markdown",
   "metadata": {},
   "source": [
    "from nltk.tag.stanford import NERTagger\n",
    "st=NERTagger('<PATH>')"
   ]
  },
  {
   "cell_type": "code",
   "execution_count": 11,
   "metadata": {
    "collapsed": false
   },
   "outputs": [
    {
     "data": {
      "text/plain": [
       "[S -> NP VP,\n",
       " VP -> V NP,\n",
       " V -> 'eats',\n",
       " V -> 'drinks',\n",
       " NP -> Det N,\n",
       " Det -> 'a',\n",
       " Det -> 'an',\n",
       " Det -> 'the',\n",
       " N -> 'president',\n",
       " N -> 'Obama',\n",
       " N -> 'apple',\n",
       " N -> 'coke']"
      ]
     },
     "execution_count": 11,
     "metadata": {},
     "output_type": "execute_result"
    }
   ],
   "source": [
    "from nltk import CFG\n",
    "toy_grammar = nltk.CFG.fromstring(\n",
    "\"\"\"\n",
    "  S -> NP VP              \n",
    "  VP -> V NP              \n",
    "  V -> \"eats\" | \"drinks\"  \n",
    "  NP -> Det N   \n",
    "  Det -> \"a\" | \"an\" | \"the\" \n",
    "  N -> \"president\" |\"Obama\" |\"apple\"| \"coke\"  \n",
    "    \"\"\")\n",
    "toy_grammar.productions()"
   ]
  },
  {
   "cell_type": "markdown",
   "metadata": {},
   "source": [
    "chunk_rules=ChunkRule(\"<.*>+\",\"chunk everything\")\n",
    "import nltk\n",
    "from nltk.chunk.regexp import *\n",
    "reg_parser = RegexpParser('''\n",
    "        NP: {<DT>? <JJ>* <NN>*}     # NP\n",
    "         P: {<IN>}                  # Preposition\n",
    "         V: {<V.*>}                 # Verb\n",
    "        PP: {<P> <NP>}              # PP -> P NP\n",
    "        VP: {<V> <NP|PP>*}          # VP -> V (NP|PP)*\n",
    "  ''')\n"
   ]
  },
  {
   "cell_type": "code",
   "execution_count": 20,
   "metadata": {
    "collapsed": false
   },
   "outputs": [
    {
     "name": "stdout",
     "output_type": "stream",
     "text": [
      "31\n",
      "[('President', 'NNP'), ('Obama', 'NNP'), ('on', 'IN'), ('Monday', 'NNP'), ('will', 'MD'), ('ban', 'VB'), ('the', 'DT'), ('federal', 'JJ'), ('provision', 'NN'), ('of', 'IN'), ('some', 'DT'), ('types', 'NNS'), ('of', 'IN'), ('military-style', 'JJ'), ('equipment', 'NN'), ('to', 'TO'), ('local', 'JJ'), ('police', 'NN'), ('departments', 'NNS'), ('and', 'CC'), ('sharply', 'RB'), ('restrict', 'VB'), ('the', 'DT'), ('availability', 'NN'), ('of', 'IN'), ('others', 'NNS'), (',', ','), ('administration', 'NN'), ('officials', 'NNS'), ('said', 'VBD'), ('.', '.')]\n",
      "(S\n",
      "  President/NNP\n",
      "  (PERSON Obama/NNP)\n",
      "  on/IN\n",
      "  Monday/NNP\n",
      "  will/MD\n",
      "  ban/VB\n",
      "  the/DT\n",
      "  federal/JJ\n",
      "  provision/NN\n",
      "  of/IN\n",
      "  some/DT\n",
      "  types/NNS\n",
      "  of/IN\n",
      "  military-style/JJ\n",
      "  equipment/NN\n",
      "  to/TO\n",
      "  local/JJ\n",
      "  police/NN\n",
      "  departments/NNS\n",
      "  and/CC\n",
      "  sharply/RB\n",
      "  restrict/VB\n",
      "  the/DT\n",
      "  availability/NN\n",
      "  of/IN\n",
      "  others/NNS\n",
      "  ,/,\n",
      "  administration/NN\n",
      "  officials/NNS\n",
      "  said/VBD\n",
      "  ./.)\n",
      "30\n",
      "[('The', 'DT'), ('ban', 'NN'), ('is', 'VBZ'), ('part', 'NN'), ('of', 'IN'), ('Mr.', 'NNP'), ('Obama', 'NNP'), (\"'s\", 'POS'), ('push', 'NN'), ('to', 'TO'), ('ease', 'VB'), ('tensions', 'NNS'), ('between', 'IN'), ('law', 'NN'), ('enforcement', 'NN'), ('and', 'CC'), ('minority', 'NN'), ('communities', 'NNS'), ('in', 'IN'), ('reaction', 'NN'), ('to', 'TO'), ('the', 'DT'), ('crises', 'NNS'), ('in', 'IN'), ('Baltimore', 'NNP'), (';', ':'), ('Ferguson', 'NNP'), (',', ','), ('Mo', 'NNP'), ('.', '.')]\n",
      "(S\n",
      "  The/DT\n",
      "  ban/NN\n",
      "  is/VBZ\n",
      "  part/NN\n",
      "  of/IN\n",
      "  (PERSON Mr./NNP Obama/NNP)\n",
      "  's/POS\n",
      "  push/NN\n",
      "  to/TO\n",
      "  ease/VB\n",
      "  tensions/NNS\n",
      "  between/IN\n",
      "  law/NN\n",
      "  enforcement/NN\n",
      "  and/CC\n",
      "  minority/NN\n",
      "  communities/NNS\n",
      "  in/IN\n",
      "  reaction/NN\n",
      "  to/TO\n",
      "  the/DT\n",
      "  crises/NNS\n",
      "  in/IN\n",
      "  (GPE Baltimore/NNP)\n",
      "  ;/:\n",
      "  (PERSON Ferguson/NNP)\n",
      "  ,/,\n",
      "  (GPE Mo/NNP)\n",
      "  ./.)\n",
      "6\n",
      "[(';', ':'), ('and', 'CC'), ('other', 'JJ'), ('cities.blic', 'NN'), ('.', '.'), (\"''\", \"''\")]\n",
      "(S ;/: and/CC other/JJ cities.blic/NN ./. ''/'')\n",
      "11\n",
      "[('It', 'PRP'), ('contains', 'VBZ'), ('dozens', 'NNS'), ('of', 'IN'), ('recommendations', 'NNS'), ('for', 'IN'), ('agencies', 'NNS'), ('throughout', 'IN'), ('the', 'DT'), ('country', 'NN'), ('.', '.')]\n",
      "(S\n",
      "  It/PRP\n",
      "  contains/VBZ\n",
      "  dozens/NNS\n",
      "  of/IN\n",
      "  recommendations/NNS\n",
      "  for/IN\n",
      "  agencies/NNS\n",
      "  throughout/IN\n",
      "  the/DT\n",
      "  country/NN\n",
      "  ./.)\n",
      "[(0, 31, 0, 8, 0.25806451612903225, 'President Obama on Monday will ban the federal provision of some types of military-style equipment to local police departments and sharply restrict the availability of others, administration officials said.'), (1, 30, 0, 12, 0.4, \"The ban is part of Mr. Obama's push to ease tensions between law enforcement and minority communities in reaction to the crises in Baltimore; Ferguson, Mo.\"), (2, 6, 0, 1, 0.16666666666666666, '; and other cities.blic.\"'), (3, 11, 0, 1, 0.09090909090909091, 'It contains dozens of recommendations for agencies throughout the country.')]\n"
     ]
    }
   ],
   "source": [
    "news_content='President Obama on Monday will ban the federal provision of some types of military-style equipment to local police departments and sharply restrict the availability of others, administration officials said. The ban is part of Mr. Obama\\'s push to ease tensions between law enforcement and minority communities in reaction to the crises in Baltimore; Ferguson, Mo.; and other cities.blic.\" It contains dozens of recommendations for agencies throughout the country.'\n",
    "import nltk\n",
    "results=[]\n",
    "for sent_no,sentence in enumerate(nltk.sent_tokenize(news_content)):\n",
    "    no_of_tokens=len(nltk.word_tokenize(sentence))\n",
    "    print(no_of_tokens)\n",
    "    tagged=nltk.pos_tag(nltk.word_tokenize(sentence))\n",
    "    print(tagged)\n",
    "    no_of_nouns=len([word for word,pos in tagged if pos in [\"NN\",\"NNP\"] ])\n",
    "    ners=nltk.ne_chunk(nltk.pos_tag(nltk.word_tokenize(sentence)), binary=False)\n",
    "    print ners\n",
    "    no_of_ners= len([chunk for chunk in ners if hasattr(chunk, 'node')])\n",
    "    score=(no_of_ners+no_of_nouns)/float(no_of_tokens)\n",
    "    results.append((sent_no,no_of_tokens,no_of_ners,\\\n",
    "no_of_nouns,score,sentence))\n",
    "print results    \n",
    "    \n",
    "    "
   ]
  },
  {
   "cell_type": "code",
   "execution_count": 22,
   "metadata": {
    "collapsed": false
   },
   "outputs": [],
   "source": [
    "SMS001=['spam', 'Had your mobile 11 months or more? U R entitled to Update to the latest colour mobiles with camera for Free! Call The Mobile Update Co FREE on 08002986030']\n",
    "SMS002=['ham', \"I'm gonna be home soon and i don't want to talk about this stuff anymore tonight, k? I've cried enough today.\"]"
   ]
  },
  {
   "cell_type": "code",
   "execution_count": 23,
   "metadata": {
    "collapsed": true
   },
   "outputs": [],
   "source": [
    "import nltk\n",
    "from nltk.corpus import stopwords\n",
    "from nltk.stem import WordNetLemmatizer\n",
    "import csv\n",
    "\n",
    "def preprocessing(text):\n",
    "    text=text.decode(\"utf8\")\n",
    "    tokens=[word for sent in nltk.sent_tokenize(text) for word in nltk.word_tokenize(sent)]\n",
    "    stop=stopwords.words('english')\n",
    "    tokens=[token for token in tokens if token not in stop]\n",
    "    tokens=[word for word in tokens if len(word)>=3]\n",
    "    tokens=[word.lower() for word in tokens]\n",
    "    lmtzr=WordNetLemmatizer()\n",
    "    tokens=[lmtzr.lemmatize(word) for word in tokens]\n",
    "    preprocessed_text=' '.join(tokens)\n",
    "    return preprocessed_text"
   ]
  },
  {
   "cell_type": "code",
   "execution_count": null,
   "metadata": {
    "collapsed": true
   },
   "outputs": [],
   "source": []
  }
 ],
 "metadata": {
  "anaconda-cloud": {},
  "kernelspec": {
   "display_name": "Python [conda root]",
   "language": "python",
   "name": "conda-root-py"
  },
  "language_info": {
   "codemirror_mode": {
    "name": "ipython",
    "version": 2
   },
   "file_extension": ".py",
   "mimetype": "text/x-python",
   "name": "python",
   "nbconvert_exporter": "python",
   "pygments_lexer": "ipython2",
   "version": "2.7.12"
  }
 },
 "nbformat": 4,
 "nbformat_minor": 2
}
